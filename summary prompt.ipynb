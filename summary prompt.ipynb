{
 "cells": [
  {
   "cell_type": "markdown",
   "metadata": {},
   "source": [
    "<h1>Generador de Promtm Resumenes</h1>"
   ]
  },
  {
   "cell_type": "code",
   "execution_count": 50,
   "metadata": {},
   "outputs": [
    {
     "name": "stdout",
     "output_type": "stream",
     "text": [
      "Requirement already satisfied: pyperclip in c:\\users\\lenovo\\appdata\\local\\packages\\pythonsoftwarefoundation.python.3.10_qbz5n2kfra8p0\\localcache\\local-packages\\python310\\site-packages (1.8.2)\n",
      "Note: you may need to restart the kernel to use updated packages.\n"
     ]
    },
    {
     "name": "stderr",
     "output_type": "stream",
     "text": [
      "\n",
      "[notice] A new release of pip is available: 23.1.2 -> 23.2.1\n",
      "[notice] To update, run: C:\\Users\\LENOVO\\AppData\\Local\\Microsoft\\WindowsApps\\PythonSoftwareFoundation.Python.3.10_qbz5n2kfra8p0\\python.exe -m pip install --upgrade pip\n"
     ]
    }
   ],
   "source": [
    "%pip install pyperclip"
   ]
  },
  {
   "cell_type": "code",
   "execution_count": null,
   "metadata": {},
   "outputs": [],
   "source": [
    "#Pegue el título del informe\"\n",
    "titulo = input(\"título del informe\")"
   ]
  },
  {
   "cell_type": "code",
   "execution_count": 4,
   "metadata": {
    "slideshow": {
     "slide_type": "notes"
    }
   },
   "outputs": [],
   "source": [
    "#se usa para copiar texto con solo un click\n",
    "import pyperclip\n",
    "from IPython.display import display\n",
    "def copiar_texto(x):\n",
    "    # Define el texto que deseas copiar\n",
    "    texto_a_copiar = x\n",
    "\n",
    "    # Usa pyperclip para copiar el texto al portapapeles\n",
    "    pyperclip.copy(texto_a_copiar)\n",
    "\n",
    "    # Verifica si se copió correctamente (opcional)\n",
    "    texto_copiado = pyperclip.paste()\n",
    "    print(texto_copiado)\n"
   ]
  },
  {
   "cell_type": "markdown",
   "metadata": {},
   "source": [
    "<h2> Prompt para generación de cita: </h2>\n",
    "\n",
    "\n"
   ]
  },
  {
   "cell_type": "code",
   "execution_count": 5,
   "metadata": {},
   "outputs": [
    {
     "name": "stdout",
     "output_type": "stream",
     "text": [
      "Ejemplo de cita con norma APA del documento\n"
     ]
    }
   ],
   "source": [
    "#Click al texto para copiarlo:\n",
    "copiar_texto(\"Ejemplo de cita con norma APA del documento\")"
   ]
  },
  {
   "cell_type": "code",
   "execution_count": 6,
   "metadata": {},
   "outputs": [],
   "source": [
    "#Pegue el resultado del prompt (solo la cita en apa)\n",
    "cita = input(\"Pegue el resultado del prompt\")"
   ]
  },
  {
   "cell_type": "markdown",
   "metadata": {},
   "source": [
    "<h2> Revisar cada elemento en la siguiente lista  contenido temático el el documento para resumir: </h2>\n"
   ]
  },
  {
   "cell_type": "code",
   "execution_count": 7,
   "metadata": {},
   "outputs": [
    {
     "name": "stdout",
     "output_type": "stream",
     "text": [
      "Muestre un posible contenido temático en el documento para cada elemento de la siguiente lista:\n",
      "Resumen Ejecutivo\n",
      "Tendencias Emergentes\n",
      "Riesgos y Oportunidades\n",
      "Innovación Tecnológica en el Sector Financiero\n",
      "Cumplimiento Regulatorio y Seguridad Financiera\n",
      "Inclusión Financiera y Banca Digital.\n",
      "contestar de la siguiente forma: elemento;<true o false>(dependiendo si hay contenido en el documento);<porcentaje de contenido disponible para este tema con respecto al documento>;<breve descripcion>(null si no hay contenido) separar con coma y punto cada elemento\n"
     ]
    }
   ],
   "source": [
    "#Click al texto para copiarlo:\n",
    "copiar_texto(\"\"\"Muestre un posible contenido temático en el documento para cada elemento de la siguiente lista:\n",
    "Resumen Ejecutivo\n",
    "Tendencias Emergentes\n",
    "Riesgos y Oportunidades\n",
    "Innovación Tecnológica en el Sector Financiero\n",
    "Cumplimiento Regulatorio y Seguridad Financiera\n",
    "Inclusión Financiera y Banca Digital.\n",
    "contestar de la siguiente forma: elemento;<true o false>(dependiendo si hay contenido en el documento);<porcentaje de contenido disponible para este tema con respecto al documento>;<breve descripcion>(null si no hay contenido) separar con coma y punto cada elemento\"\"\")"
   ]
  },
  {
   "cell_type": "code",
   "execution_count": 9,
   "metadata": {},
   "outputs": [],
   "source": [
    "#Pegue el resultado del prompt\n",
    "resultado = input(\"Pegue el resultado del prompt\")"
   ]
  },
  {
   "cell_type": "code",
   "execution_count": 10,
   "metadata": {},
   "outputs": [
    {
     "data": {
      "text/html": [
       "<div>\n",
       "<style scoped>\n",
       "    .dataframe tbody tr th:only-of-type {\n",
       "        vertical-align: middle;\n",
       "    }\n",
       "\n",
       "    .dataframe tbody tr th {\n",
       "        vertical-align: top;\n",
       "    }\n",
       "\n",
       "    .dataframe thead th {\n",
       "        text-align: right;\n",
       "    }\n",
       "</style>\n",
       "<table border=\"1\" class=\"dataframe\">\n",
       "  <thead>\n",
       "    <tr style=\"text-align: right;\">\n",
       "      <th></th>\n",
       "      <th>Tipo</th>\n",
       "      <th>Si hay contenido temático</th>\n",
       "      <th>Porcentaje de coincidencia</th>\n",
       "      <th>Descripción</th>\n",
       "    </tr>\n",
       "  </thead>\n",
       "  <tbody>\n",
       "    <tr>\n",
       "      <th>0</th>\n",
       "      <td>Resumen Ejecutivo</td>\n",
       "      <td>true</td>\n",
       "      <td>100%</td>\n",
       "      <td>Breve resumen de los principales hallazgos y r...</td>\n",
       "    </tr>\n",
       "    <tr>\n",
       "      <th>1</th>\n",
       "      <td>Tendencias Emergentes</td>\n",
       "      <td>true</td>\n",
       "      <td>80%</td>\n",
       "      <td>Análisis de las tendencias actuales y emergent...</td>\n",
       "    </tr>\n",
       "    <tr>\n",
       "      <th>2</th>\n",
       "      <td>Riesgos y Oportunidades</td>\n",
       "      <td>true</td>\n",
       "      <td>90%</td>\n",
       "      <td>Identificación y análisis de los riesgos y opo...</td>\n",
       "    </tr>\n",
       "    <tr>\n",
       "      <th>3</th>\n",
       "      <td>Innovación Tecnológica en el Sector Financiero</td>\n",
       "      <td>true</td>\n",
       "      <td>100%</td>\n",
       "      <td>Exploración de las tecnologías emergentes y su...</td>\n",
       "    </tr>\n",
       "    <tr>\n",
       "      <th>4</th>\n",
       "      <td>Cumplimiento Regulatorio y Seguridad Financiera</td>\n",
       "      <td>true</td>\n",
       "      <td>80%</td>\n",
       "      <td>Análisis de los marcos regulatorios y de segur...</td>\n",
       "    </tr>\n",
       "    <tr>\n",
       "      <th>5</th>\n",
       "      <td>Inclusión Financiera y Banca Digital</td>\n",
       "      <td>true</td>\n",
       "      <td>100%</td>\n",
       "      <td>Discusión sobre la inclusión financiera y la b...</td>\n",
       "    </tr>\n",
       "  </tbody>\n",
       "</table>\n",
       "</div>"
      ],
      "text/plain": [
       "                                              Tipo Si hay contenido temático   \n",
       "0                                Resumen Ejecutivo                      true  \\\n",
       "1                            Tendencias Emergentes                      true   \n",
       "2                          Riesgos y Oportunidades                      true   \n",
       "3   Innovación Tecnológica en el Sector Financiero                      true   \n",
       "4  Cumplimiento Regulatorio y Seguridad Financiera                      true   \n",
       "5             Inclusión Financiera y Banca Digital                      true   \n",
       "\n",
       "  Porcentaje de coincidencia   \n",
       "0                       100%  \\\n",
       "1                        80%   \n",
       "2                        90%   \n",
       "3                       100%   \n",
       "4                        80%   \n",
       "5                       100%   \n",
       "\n",
       "                                         Descripción  \n",
       "0  Breve resumen de los principales hallazgos y r...  \n",
       "1  Análisis de las tendencias actuales y emergent...  \n",
       "2  Identificación y análisis de los riesgos y opo...  \n",
       "3  Exploración de las tecnologías emergentes y su...  \n",
       "4  Análisis de los marcos regulatorios y de segur...  \n",
       "5  Discusión sobre la inclusión financiera y la b...  "
      ]
     },
     "execution_count": 10,
     "metadata": {},
     "output_type": "execute_result"
    }
   ],
   "source": [
    "#Datos del análisis hecho por chat pdf\n",
    "import pandas as pd\n",
    "filas = [linea.strip().split(\";\") for linea in resultado.split(\".\") if linea.strip()]\n",
    "df= pd.DataFrame(filas, columns=[\"Tipo\",\"Si hay contenido temático\",\"Porcentaje de coincidencia\",\"Descripción\"])\n",
    "df\n"
   ]
  },
  {
   "cell_type": "markdown",
   "metadata": {},
   "source": [
    "<h2>Generación de temas sugeridos por IA:</h2>"
   ]
  },
  {
   "cell_type": "code",
   "execution_count": 11,
   "metadata": {},
   "outputs": [],
   "source": [
    "#Escoja el tipo de resumen que se quiere digitando el número de fila de la anterior tabla\n",
    "numero= input(\"Num de fila\")"
   ]
  },
  {
   "cell_type": "code",
   "execution_count": 12,
   "metadata": {},
   "outputs": [
    {
     "name": "stdout",
     "output_type": "stream",
     "text": [
      "Sugerir Posibles temas que pueden ser utilizados para un Tendencias Emergentes donde el enfoque \n",
      "es Análisis de las tendencias actuales y emergentes en la industria financiera, incluyendo la adopción de tecnologías disruptivas y cambios en el comportamiento del consumidor. \n",
      "Para toda la información contestar de la suiguiente forma: <Tema>; <especificar que paginas contiene \n",
      "la información  número de página (ejemplo: 15)>. separar cada elemento con punto y coma y no numerar los temas\n"
     ]
    }
   ],
   "source": [
    "#Click al texto para copiarlo:\n",
    "copiar_texto(f\"\"\"Sugerir Posibles temas que pueden ser utilizados para un {df.iloc[int(numero)]['Tipo']} donde el enfoque \n",
    "es {df.iloc[int(numero)]['Descripción']}. \n",
    "Para toda la información contestar de la suiguiente forma: <Tema>; <especificar que paginas contiene \n",
    "la información  número de página (ejemplo: 15)>. separar cada elemento con punto y coma y no numerar los temas\"\"\")"
   ]
  },
  {
   "cell_type": "code",
   "execution_count": 13,
   "metadata": {},
   "outputs": [],
   "source": [
    "#Pegue el resultado del prompt (solo los temas)\n",
    "temas = input(\"Pegue el resultado del prompt\")"
   ]
  },
  {
   "cell_type": "code",
   "execution_count": 14,
   "metadata": {},
   "outputs": [
    {
     "data": {
      "text/html": [
       "<div>\n",
       "<style scoped>\n",
       "    .dataframe tbody tr th:only-of-type {\n",
       "        vertical-align: middle;\n",
       "    }\n",
       "\n",
       "    .dataframe tbody tr th {\n",
       "        vertical-align: top;\n",
       "    }\n",
       "\n",
       "    .dataframe thead th {\n",
       "        text-align: right;\n",
       "    }\n",
       "</style>\n",
       "<table border=\"1\" class=\"dataframe\">\n",
       "  <thead>\n",
       "    <tr style=\"text-align: right;\">\n",
       "      <th></th>\n",
       "      <th>Tema</th>\n",
       "      <th>Pag</th>\n",
       "    </tr>\n",
       "  </thead>\n",
       "  <tbody>\n",
       "    <tr>\n",
       "      <th>0</th>\n",
       "      <td>- Estado actual de la inclusión financiera en ...</td>\n",
       "      <td>páginas: 5-7</td>\n",
       "    </tr>\n",
       "    <tr>\n",
       "      <th>1</th>\n",
       "      <td>- Tendencias emergentes en la industria financ...</td>\n",
       "      <td>páginas: 10-12</td>\n",
       "    </tr>\n",
       "    <tr>\n",
       "      <th>2</th>\n",
       "      <td>- Innovaciones tecnológicas que están transfor...</td>\n",
       "      <td>páginas: 15-18</td>\n",
       "    </tr>\n",
       "    <tr>\n",
       "      <th>3</th>\n",
       "      <td>- Riesgos y oportunidades asociados con la inn...</td>\n",
       "      <td>páginas: 20-22</td>\n",
       "    </tr>\n",
       "    <tr>\n",
       "      <th>4</th>\n",
       "      <td>- Mejores prácticas y estrategias para mejorar...</td>\n",
       "      <td>páginas: 25-28</td>\n",
       "    </tr>\n",
       "    <tr>\n",
       "      <th>5</th>\n",
       "      <td>- Recomendaciones para los reguladores y super...</td>\n",
       "      <td>páginas: 30-32</td>\n",
       "    </tr>\n",
       "    <tr>\n",
       "      <th>6</th>\n",
       "      <td>- Conclusiones y próximos pasos para avanzar e...</td>\n",
       "      <td>páginas: 35-37.</td>\n",
       "    </tr>\n",
       "  </tbody>\n",
       "</table>\n",
       "</div>"
      ],
      "text/plain": [
       "                                                Tema               Pag\n",
       "0  - Estado actual de la inclusión financiera en ...      páginas: 5-7\n",
       "1  - Tendencias emergentes en la industria financ...    páginas: 10-12\n",
       "2  - Innovaciones tecnológicas que están transfor...    páginas: 15-18\n",
       "3  - Riesgos y oportunidades asociados con la inn...    páginas: 20-22\n",
       "4  - Mejores prácticas y estrategias para mejorar...    páginas: 25-28\n",
       "5  - Recomendaciones para los reguladores y super...    páginas: 30-32\n",
       "6  - Conclusiones y próximos pasos para avanzar e...   páginas: 35-37."
      ]
     },
     "execution_count": 14,
     "metadata": {},
     "output_type": "execute_result"
    }
   ],
   "source": [
    "#Datos del análisis hecho por chat pdf\n",
    "filas = [linea.strip().split(\";\") for linea in temas.split(\". \") if linea.strip()]\n",
    "df_temas= pd.DataFrame(filas, columns=[\"Tema\",\"Pag\"])\n",
    "df_temas"
   ]
  },
  {
   "cell_type": "markdown",
   "metadata": {},
   "source": [
    "<h2> generación de documento: </h2>"
   ]
  },
  {
   "cell_type": "code",
   "execution_count": 17,
   "metadata": {},
   "outputs": [
    {
     "name": "stdout",
     "output_type": "stream",
     "text": [
      "hacer un texto donde desarrollo la idea - Estado actual de la inclusión financiera en el país \n",
      "Tomar nota únicamente del número de página de donde se extrajo la información (ejemplo: pág15).\n",
      "\n",
      "hacer un texto donde desarrollo la idea - Tendencias emergentes en la industria financiera y su impacto en la inclusión financiera \n",
      "Tomar nota únicamente del número de página de donde se extrajo la información (ejemplo: pág15).\n",
      "\n",
      "hacer un texto donde desarrollo la idea - Innovaciones tecnológicas que están transformando la industria financiera y mejorando la inclusión financiera \n",
      "Tomar nota únicamente del número de página de donde se extrajo la información (ejemplo: pág15).\n",
      "\n",
      "hacer un texto donde desarrollo la idea - Riesgos y oportunidades asociados con la innovación tecnológica en el sector financiero \n",
      "Tomar nota únicamente del número de página de donde se extrajo la información (ejemplo: pág15).\n",
      "\n",
      "hacer un texto donde desarrollo la idea - Mejores prácticas y estrategias para mejorar la inclusión financiera a través de la tecnología \n",
      "Tomar nota únicamente del número de página de donde se extrajo la información (ejemplo: pág15).\n",
      "\n",
      "hacer un texto donde desarrollo la idea - Recomendaciones para los reguladores y supervisores para fomentar la innovación y la inclusión financiera \n",
      "Tomar nota únicamente del número de página de donde se extrajo la información (ejemplo: pág15).\n",
      "\n",
      "hacer un texto donde desarrollo la idea - Conclusiones y próximos pasos para avanzar en la inclusión financiera en el país \n",
      "Tomar nota únicamente del número de página de donde se extrajo la información (ejemplo: pág15).\n",
      "\n"
     ]
    }
   ],
   "source": [
    "#Click al texto para copiarlo y luego pegue el prompt:\n",
    "texto =\"\"\n",
    "for indice, tema in df_temas.iterrows():   \n",
    "    while True:\n",
    "        copiar_texto(f\"\"\"hacer un texto donde desarrollo la idea {tema['Tema']} \n",
    "Tomar nota únicamente del número de página de donde se extrajo la información (ejemplo: pág15).\n",
    "\"\"\")\n",
    "        texto = texto +input(\"pegue el prompt...\")+\"\\n\"\n",
    "        if texto != \"\":\n",
    "            break "
   ]
  },
  {
   "cell_type": "code",
   "execution_count": 16,
   "metadata": {},
   "outputs": [
    {
     "name": "stdout",
     "output_type": "stream",
     "text": [
      "El informe presenta un análisis detallado del estado actual de la inclusión financiera en el país [página ]. Según el informe, aunque se han logrado avances significativos en los últimos años, todavía hay una gran cantidad de personas que no tienen acceso a servicios financieros básicos. En particular, las personas que viven en zonas rurales y las personas de bajos ingresos son los más afectados por la exclusión financiera.  El informe también destaca que la inclusión financiera es un factor clave para el desarrollo económico y social del país. Al mejorar el acceso a servicios financieros, se puede fomentar el ahorro, la inversión y el emprendimiento, lo que a su vez puede generar empleo y reducir la pobreza.  Para abordar estos desafíos, el informe propone una serie de estrategias efectivas de transformación digital en la industria financiera [página ]. Estas estrategias incluyen el uso de tecnologías como la banca móvil, los pagos digitales y la inteligencia artificial para mejorar la accesibilidad y la eficiencia de los servicios financieros.\n",
      "El informe destaca las tendencias emergentes en la industria financiera y su impacto en la inclusión financiera [página ]. En particular, se enfoca en el modelo de finanzas abiertas (open finance) como un paso clave en el desarrollo del ecosistema financiero. Según el informe, el modelo de finanzas abiertas permite a los actores del ecosistema financiero configurar más acertadamente sus productos y servicios con base en las necesidades y características particulares de sus clientes activos y potenciales. Esto, a su vez, les habilita para mejorar la experiencia de los usuarios, hacer mucho más eficiente su operación, disminuir costos, ofrecer nuevos productos y crear nuevos modelos de negocio gracias al uso de esos datos.  Además, el informe destaca el poder de la transaccionalidad como puerta de entrada al sector financiero y su capacidad para la generación de datos [página ]. La transaccionalidad se refiere a la capacidad de realizar transacciones financieras de manera rápida y segura, utilizando tecnologías como la banca móvil y los pagos digitales. Estas tecnologías están permitiendo a las personas acceder a servicios financieros básicos de manera más fácil y eficiente, lo que a su vez puede mejorar su calidad de vida y su bienestar económico.\n",
      "El informe destaca las innovaciones tecnológicas que están transformando la industria financiera y mejorando la inclusión financiera [página ]. En particular, se enfoca en tecnologías como la banca móvil, los pagos digitales y la inteligencia artificial. Estas tecnologías están permitiendo a las personas acceder a servicios financieros básicos de manera más fácil y eficiente, lo que a su vez puede mejorar su calidad de vida y su bienestar económico.  La banca móvil, por ejemplo, permite a las personas realizar transacciones financieras desde sus teléfonos móviles, sin tener que acudir a una sucursal bancaria [página ]. Esto es especialmente útil para las personas que viven en zonas rurales o que tienen dificultades para desplazarse a una sucursal bancaria. Los pagos digitales, por su parte, permiten a las personas realizar pagos de manera rápida y segura, utilizando tecnologías como las billeteras digitales y los códigos QR [página ]. Estas tecnologías están reemplazando gradualmente el uso del efectivo en el país, lo que puede mejorar la seguridad y la eficiencia de las transacciones financieras.  La inteligencia artificial también está transformando la industria financiera, permitiendo a los actores del ecosistema financiero analizar grandes cantidades de datos y tomar decisiones más informadas [página ]. Por ejemplo, los bancos pueden utilizar la inteligencia artificial para analizar el historial crediticio de un cliente y determinar si es elegible para un préstamo. Esto puede mejorar la accesibilidad de los servicios financieros para las personas que tienen dificultades para acceder al crédito.\n",
      "\n",
      "\n",
      "\n",
      "\n",
      "\n"
     ]
    }
   ],
   "source": [
    "print(texto)"
   ]
  }
 ],
 "metadata": {
  "kernelspec": {
   "display_name": "Python 3",
   "language": "python",
   "name": "python3"
  },
  "language_info": {
   "codemirror_mode": {
    "name": "ipython",
    "version": 3
   },
   "file_extension": ".py",
   "mimetype": "text/x-python",
   "name": "python",
   "nbconvert_exporter": "python",
   "pygments_lexer": "ipython3",
   "version": "3.10.11"
  },
  "orig_nbformat": 4
 },
 "nbformat": 4,
 "nbformat_minor": 2
}
